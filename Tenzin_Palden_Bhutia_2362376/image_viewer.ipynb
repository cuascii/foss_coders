{
 "cells": [
  {
   "cell_type": "code",
   "execution_count": 3,
   "id": "e0c58fa6-bb26-41f3-b706-d8736022ed7a",
   "metadata": {},
   "outputs": [],
   "source": [
    "class Node:\n",
    "    def __init__(self, data):\n",
    "        self.data = data\n",
    "        self.next = None\n",
    "        self.prev = None\n",
    "\n",
    "class DoublyLinkedList:\n",
    "    def __init__(self):\n",
    "        self.head = None\n",
    "        self.tail = None\n",
    "\n",
    "    def append(self, data):\n",
    "        new_node = Node(data)\n",
    "        if not self.head:\n",
    "            self.head = self.tail = new_node\n",
    "        else:\n",
    "            self.tail.next = new_node\n",
    "            new_node.prev = self.tail\n",
    "            self.tail = new_node\n",
    "\n",
    "    def traverse_forward(self):\n",
    "        current = self.head\n",
    "        while current:\n",
    "            yield current.data\n",
    "            current = current.next\n",
    "\n",
    "    def traverse_backward(self):\n",
    "        current = self.tail\n",
    "        while current:\n",
    "            yield current.data\n",
    "            current = current.prev\n"
   ]
  },
  {
   "cell_type": "code",
   "execution_count": 4,
   "id": "b662a1c2-aec5-433f-a0cb-e7aa0389236d",
   "metadata": {},
   "outputs": [],
   "source": [
    "from PIL import Image, ImageTk\n",
    "import os\n",
    "import tkinter as tk\n",
    "\n",
    "class ImageViewer:\n",
    "    def __init__(self, image_list):\n",
    "        self.dll = DoublyLinkedList()\n",
    "        for image in image_list:\n",
    "            self.dll.append(image)\n",
    "        self.current_node = self.dll.head\n",
    "\n",
    "    def show_image(self, label):\n",
    "        img = Image.open(self.current_node.data)\n",
    "        img = img.resize((500, 500))  # Resize for display\n",
    "        photo = ImageTk.PhotoImage(img)\n",
    "        label.config(image=photo)\n",
    "        label.image = photo  # Keep a reference to avoid garbage collection\n",
    "\n",
    "    def next_image(self, label):\n",
    "        if self.current_node.next:\n",
    "            self.current_node = self.current_node.next\n",
    "            self.show_image(label)\n",
    "\n",
    "    def prev_image(self, label):\n",
    "        if self.current_node.prev:\n",
    "            self.current_node = self.current_node.prev\n",
    "            self.show_image(label)\n"
   ]
  },
  {
   "cell_type": "code",
   "execution_count": null,
   "id": "9595de39-8190-442a-bcce-a8de00153382",
   "metadata": {},
   "outputs": [
    {
     "name": "stderr",
     "output_type": "stream",
     "text": [
      "2024-09-01 22:29:45.678 Python[47520:6581642] WARNING: Secure coding is not enabled for restorable state! Enable secure coding by implementing NSApplicationDelegate.applicationSupportsSecureRestorableState: and returning YES.\n"
     ]
    }
   ],
   "source": [
    "def main():\n",
    "    root = tk.Tk()\n",
    "    root.title(\"Image Viewer\")\n",
    "\n",
    "    # Load images from the 'images' folder\n",
    "    image_list = [f\"images/{file}\" for file in os.listdir(\"images\") if file.endswith((\"png\", \"jpg\", \"jpeg\"))]\n",
    "    \n",
    "    viewer = ImageViewer(image_list)\n",
    "\n",
    "    # Create a label to display images\n",
    "    label = tk.Label(root)\n",
    "    label.pack()\n",
    "\n",
    "    # Initial image display\n",
    "    viewer.show_image(label)\n",
    "\n",
    "    # Buttons to navigate\n",
    "    next_button = tk.Button(root, text=\"Next\", command=lambda: viewer.next_image(label))\n",
    "    next_button.pack(side=tk.RIGHT)\n",
    "\n",
    "    prev_button = tk.Button(root, text=\"Previous\", command=lambda: viewer.prev_image(label))\n",
    "    prev_button.pack(side=tk.LEFT)\n",
    "\n",
    "    root.mainloop()\n",
    "\n",
    "if __name__ == \"__main__\":\n",
    "    main()\n"
   ]
  },
  {
   "cell_type": "code",
   "execution_count": null,
   "id": "275d2b89-f903-4fa1-bed6-0eca5011ec61",
   "metadata": {},
   "outputs": [],
   "source": []
  }
 ],
 "metadata": {
  "kernelspec": {
   "display_name": "Python 3 (ipykernel)",
   "language": "python",
   "name": "python3"
  },
  "language_info": {
   "codemirror_mode": {
    "name": "ipython",
    "version": 3
   },
   "file_extension": ".py",
   "mimetype": "text/x-python",
   "name": "python",
   "nbconvert_exporter": "python",
   "pygments_lexer": "ipython3",
   "version": "3.11.3"
  }
 },
 "nbformat": 4,
 "nbformat_minor": 5
}
